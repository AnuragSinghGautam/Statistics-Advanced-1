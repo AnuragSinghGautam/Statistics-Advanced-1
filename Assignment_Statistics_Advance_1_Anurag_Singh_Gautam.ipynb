{
  "nbformat": 4,
  "nbformat_minor": 0,
  "metadata": {
    "colab": {
      "provenance": []
    },
    "kernelspec": {
      "name": "python3",
      "display_name": "Python 3"
    },
    "language_info": {
      "name": "python"
    }
  },
  "cells": [
    {
      "cell_type": "markdown",
      "source": [
        "# **Assignment Statistics Advanced 1**"
      ],
      "metadata": {
        "id": "N1eE0JRYbnGc"
      }
    },
    {
      "cell_type": "markdown",
      "source": [
        "**Question 1: Define the z-statistic and explain its relationship to the standard normal distribution. How is the z-statistic used in hypothesis testing?**\n",
        "\n",
        "Ans.\n",
        "\n",
        "The z-statistic measures how many standard deviations an element is from the population mean. It follows a standard normal distribution with a mean of 0 and a standard deviation of 1.\n",
        "In hypothesis testing, the z-statistic compares sample data to a null hypothesis, determining if the observed data is significantly different from expected values under that null hypothesis.\n",
        "___\n"
      ],
      "metadata": {
        "id": "NFkBJ_U6bzyH"
      }
    },
    {
      "cell_type": "markdown",
      "source": [
        "**Question 2: What is a p-value, and how is it used in hypothesis testing? What does it mean if the p-value is very small (e.g., 0.01)?**\n",
        "\n",
        "Answer:\n",
        "\n",
        "The p-value is the probability of obtaining results at least as extreme as the observed results, assuming the null hypothesis is true.\n",
        "A small p-value (e.g., 0.01) indicates strong evidence against the null hypothesis, suggesting it should be rejected in favor of the alternative hypothesis.\n",
        "___"
      ],
      "metadata": {
        "id": "uQgXEyxOb-hl"
      }
    },
    {
      "cell_type": "markdown",
      "source": [
        "**Question 3: Compare and contrast the binomial and Bernoulli distributions.**\n",
        "\n",
        "Answer:\n",
        "\n",
        "A Bernoulli distribution is a special case of the binomial distribution where there is only one trial.\n",
        "Binomial distribution models the number of successes in multiple independent Bernoulli trials, each with the same probability of success.\n",
        "___"
      ],
      "metadata": {
        "id": "64isX1UPcIHS"
      }
    },
    {
      "cell_type": "markdown",
      "source": [
        "**Question 4: Under what conditions is the binomial distribution used, and how does it relate to the Bernoulli distribution?**\n",
        "\n",
        "Answer:\n",
        "\n",
        "The binomial distribution is used when there are a fixed number of independent trials, each with two possible outcomes (success or failure) and a constant probability of success.\n",
        "It is the sum of multiple Bernoulli trials.\n",
        "___"
      ],
      "metadata": {
        "id": "cBp7yu2EcOhZ"
      }
    },
    {
      "cell_type": "markdown",
      "source": [
        "**Question 5: What are the key properties of the Poisson distribution, and when is it appropriate to use this distribution?**\n",
        "\n",
        "Answer:\n",
        "\n",
        "The Poisson distribution describes the probability of a given number of events happening in a fixed interval of time or space, provided the events occur with a constant mean rate and independently.\n",
        "It is appropriate for modeling rare events.\n",
        "___"
      ],
      "metadata": {
        "id": "s6JmcaG6cTWc"
      }
    },
    {
      "cell_type": "markdown",
      "source": [
        "**Question 6: Define the terms \"probability distribution\" and \"probability density function\" (PDF). How does a PDF differ from a probability mass function (PMF)?**\n",
        "\n",
        "Answer:\n",
        "\n",
        "A probability distribution describes how the values of a random variable are distributed.\n",
        "A PDF applies to continuous random variables, while a PMF applies to discrete random variables. The PDF gives probabilities over an interval, while the PMF gives probabilities for distinct outcomes.\n",
        "___"
      ],
      "metadata": {
        "id": "615kpFtfcXIW"
      }
    },
    {
      "cell_type": "markdown",
      "source": [
        "**Question 7: Explain the Central Limit Theorem (CLT) with example.**\n",
        "\n",
        "Answer:\n",
        "\n",
        "The CLT states that, given a large enough sample size, the sampling distribution of the sample mean will approach a normal distribution, regardless of the population's original distribution.\n",
        "Example: If you repeatedly sample from a population with any distribution, the means of those samples will approximate a normal distribution as the sample size grows.\n",
        "___"
      ],
      "metadata": {
        "id": "2DYAL8jccbo4"
      }
    },
    {
      "cell_type": "markdown",
      "source": [
        "**Question 8: Compare z-scores and t-scores. When should you use a z-score, and when should a t-score be applied instead?**\n",
        "\n",
        "Answer:\n",
        "\n",
        "A z-score is used when the population standard deviation is known, and the sample size is large (n > 30).\n",
        "A t-score is used when the population standard deviation is unknown, and the sample size is small (n ≤ 30).\n",
        "___"
      ],
      "metadata": {
        "id": "9YmqoJKzcfm6"
      }
    },
    {
      "cell_type": "markdown",
      "source": [
        "**Question 9: Given a sample mean of 105, a population mean of 100, a standard deviation of 15, and a sample size of 25, calculate the z-score and p-value. Based on a significance level of 0.05, do you reject or fail to reject the null hypothesis?**"
      ],
      "metadata": {
        "id": "wPXQ5hCYcj-t"
      }
    },
    {
      "cell_type": "code",
      "source": [
        "import scipy.stats as stats\n",
        "\n",
        "sample_mean = 105\n",
        "population_mean = 100\n",
        "std_dev = 15\n",
        "sample_size = 25\n",
        "\n",
        "z_score = (sample_mean - population_mean) / (std_dev / (sample_size ** 0.5))\n",
        "p_value = 2 * (1 - stats.norm.cdf(abs(z_score)))\n",
        "\n",
        "z_score, p_value\n",
        "print(f\"Z-score: {z_score}\")\n",
        "print(f\"P-value: {p_value}\")"
      ],
      "metadata": {
        "colab": {
          "base_uri": "https://localhost:8080/"
        },
        "id": "yBa6LpX2coqF",
        "outputId": "bf6ff769-dc21-4c5a-b554-710de2788ec5"
      },
      "execution_count": 1,
      "outputs": [
        {
          "output_type": "stream",
          "name": "stdout",
          "text": [
            "Z-score: 1.6666666666666667\n",
            "P-value: 0.09558070454562939\n"
          ]
        }
      ]
    },
    {
      "cell_type": "markdown",
      "source": [
        "**Interpretation:**\n",
        "\n",
        "If the p-value is less than 0.05, reject the null hypothesis; otherwise, fail to reject it.\n",
        "___"
      ],
      "metadata": {
        "id": "FlgUv00VcuJi"
      }
    },
    {
      "cell_type": "markdown",
      "source": [
        "**Question 10: Simulate a binomial distribution with 10 trials and a probability of success of 0.6 using Python. Generate 1,000 samples and plot the distribution. What is the expected mean and variance?**"
      ],
      "metadata": {
        "id": "KGaFuktEc49-"
      }
    },
    {
      "cell_type": "code",
      "source": [
        "import numpy as np\n",
        "import matplotlib.pyplot as plt\n",
        "\n",
        "n_trials = 10\n",
        "p_success = 0.6\n",
        "n_samples = 1000\n",
        "\n",
        "data = np.random.binomial(n_trials, p_success, n_samples)\n",
        "mean = np.mean(data)\n",
        "variance = np.var(data)\n",
        "\n",
        "plt.hist(data, bins=10, density=True)\n",
        "plt.show()\n",
        "\n",
        "mean, variance\n",
        "print(f\"Mean: {mean}\")\n",
        "print(f\"Variance: {variance}\")"
      ],
      "metadata": {
        "colab": {
          "base_uri": "https://localhost:8080/",
          "height": 465
        },
        "id": "IUkkVZhpc8Ad",
        "outputId": "9a942b19-9fd9-4fde-c2b3-699f67155162"
      },
      "execution_count": 2,
      "outputs": [
        {
          "output_type": "display_data",
          "data": {
            "text/plain": [
              "<Figure size 640x480 with 1 Axes>"
            ],
            "image/png": "[encoded data removed]"
          },
          "metadata": {}
        },
        {
          "output_type": "stream",
          "name": "stdout",
          "text": [
            "Mean: 5.975\n",
            "Variance: 2.446375\n"
          ]
        }
      ]
    },
    {
      "cell_type": "markdown",
      "source": [
        "___"
      ],
      "metadata": {
        "id": "w1mhmk4vc_bG"
      }
    }
  ]
}